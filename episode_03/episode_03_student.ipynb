{
  "nbformat": 4,
  "nbformat_minor": 0,
  "metadata": {
    "colab": {
      "name": "episode_03-student.ipynb",
      "provenance": [],
      "collapsed_sections": []
    },
    "kernelspec": {
      "name": "python3",
      "display_name": "Python 3"
    },
    "language_info": {
      "name": "python"
    }
  },
  "cells": [
    {
      "cell_type": "markdown",
      "metadata": {
        "id": "GgNJKJlBxRn3"
      },
      "source": [
        "## Red Wine Classification with XGBoost\n",
        "\n",
        "This notebook demonstrates how to use XGBoost to predict the probability of a wine to be red."
      ]
    },
    {
      "cell_type": "code",
      "metadata": {
        "id": "PNbxF6avt78C"
      },
      "source": [
        "from google.colab import drive\n",
        "drive.mount('/content/drive')"
      ],
      "execution_count": null,
      "outputs": []
    },
    {
      "cell_type": "markdown",
      "metadata": {
        "id": "bk4xUFZkxC1r"
      },
      "source": [
        "Let's install the python library `shap` by Lundberg and Lee (2016) used to compute Shap Values. SHAP (SHapley Additive exPlanations) is a method to explain individual predictions. SHAP is based on the game theoretically optimal Shapley Values."
      ]
    },
    {
      "cell_type": "code",
      "metadata": {
        "id": "NW2__ltcxtvj"
      },
      "source": [
        "# Shap must be installed via pip\n",
        "!pip install shap"
      ],
      "execution_count": null,
      "outputs": []
    },
    {
      "cell_type": "code",
      "metadata": {
        "id": "idBfYmTOxPoo"
      },
      "source": [
        "import matplotlib.pyplot as plt\n",
        "import pandas as pd\n",
        "import seaborn as sns"
      ],
      "execution_count": null,
      "outputs": []
    },
    {
      "cell_type": "code",
      "metadata": {
        "id": "zRHlXxQYyDpZ"
      },
      "source": [
        "# Read the data and store into a pandas.DataFrame\n",
        "df = pd.read_csv('/content/drive/MyDrive/ca.webinars/Mastering Machine Learning/Episode 3/data/red_wine.txt')"
      ],
      "execution_count": null,
      "outputs": []
    },
    {
      "cell_type": "code",
      "metadata": {
        "id": "IhEGumKQyL3S"
      },
      "source": [
        "df.head()"
      ],
      "execution_count": null,
      "outputs": []
    },
    {
      "cell_type": "code",
      "metadata": {
        "id": "6zxJgbPGylXc"
      },
      "source": [
        "df.info()"
      ],
      "execution_count": null,
      "outputs": []
    },
    {
      "cell_type": "markdown",
      "metadata": {
        "id": "OjPlx8qx-Q73"
      },
      "source": [
        "Let us separate the target variable from the set of features. Also, we define a new target as follows: all records of quality greater than 6 means 1, otherwise 0 - in a classification setting."
      ]
    },
    {
      "cell_type": "code",
      "metadata": {
        "id": "h8w_f9A4y6zL"
      },
      "source": [
        "# TO BE FILLED"
      ],
      "execution_count": null,
      "outputs": []
    },
    {
      "cell_type": "code",
      "metadata": {
        "id": "Dn4UuulQxsK6"
      },
      "source": [
        "import xgboost as xgb\n",
        "import numpy as np\n",
        "\n",
        "from sklearn.model_selection import GridSearchCV\n",
        "from xgboost.sklearn import XGBClassifier\n",
        "\n",
        "\n",
        "\n",
        "params = {\n",
        "    'learning_rate': np.arange(0.01,0.1,0.01),\n",
        " \n",
        "}\n",
        "\n",
        "# Grid Search\n",
        "cv = GridSearchCV(\n",
        "    estimator = xgb.XGBClassifier(n_estimators = 1000, n_jobs=-1, seed=42), \n",
        "    param_grid = params, \n",
        "    scoring='roc_auc',\n",
        "    n_jobs=-1, \n",
        "    cv=5, \n",
        ")\n",
        "#Fit\n",
        "cv.fit(X_train,y_train)"
      ],
      "execution_count": null,
      "outputs": []
    },
    {
      "cell_type": "markdown",
      "metadata": {
        "id": "sjcGO7xF_Xjo"
      },
      "source": [
        "Please note that we do not expect incredible performance of the model. Being a live session we want to reduce the fitting time, so please try by yourself to improve the quality of the model by tuning more hyperparameters."
      ]
    },
    {
      "cell_type": "code",
      "metadata": {
        "id": "4BxdbsxH_oYT"
      },
      "source": [
        "# TO BE FILLED"
      ],
      "execution_count": null,
      "outputs": []
    },
    {
      "cell_type": "markdown",
      "metadata": {
        "id": "3FgvGfyF4l70"
      },
      "source": [
        "## Explain Machine Learning Model Outputs with Shap Values!"
      ]
    },
    {
      "cell_type": "code",
      "metadata": {
        "id": "DXHNkD642B2C"
      },
      "source": [
        "import shap\n",
        "# this might take a while depending on your dataset size! Here the data is small for illustration purposes\n",
        "explainer = shap.TreeExplainer(best_model)\n",
        "shap_values = explainer.shap_values(X)"
      ],
      "execution_count": null,
      "outputs": []
    },
    {
      "cell_type": "markdown",
      "metadata": {
        "id": "-ThtikFk6F_l"
      },
      "source": [
        "### Feature Importance with Shap"
      ]
    },
    {
      "cell_type": "code",
      "metadata": {
        "id": "Z29qitERABvy"
      },
      "source": [
        "# TO BE FILLED"
      ],
      "execution_count": null,
      "outputs": []
    },
    {
      "cell_type": "markdown",
      "metadata": {
        "id": "6IFjovnT_--8"
      },
      "source": [
        "### Summary Plot"
      ]
    },
    {
      "cell_type": "code",
      "metadata": {
        "id": "oXmSKT17ADpU"
      },
      "source": [
        "# TO BE FILLED"
      ],
      "execution_count": null,
      "outputs": []
    }
  ]
}